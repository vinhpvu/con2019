{
 "cells": [
  {
   "cell_type": "code",
   "execution_count": 137,
   "metadata": {
    "collapsed": true
   },
   "outputs": [],
   "source": [
    "import pandas as pd\n",
    "import numpy as np\n",
    "import matplotlib.pyplot as plt\n",
    "import seaborn as sns\n",
    "import seaborn as sns; sns.set()\n",
    "% matplotlib inline"
   ]
  },
  {
   "cell_type": "code",
   "execution_count": 138,
   "metadata": {
    "collapsed": false
   },
   "outputs": [
    {
     "data": {
      "text/html": [
       "<div>\n",
       "<style scoped>\n",
       "    .dataframe tbody tr th:only-of-type {\n",
       "        vertical-align: middle;\n",
       "    }\n",
       "\n",
       "    .dataframe tbody tr th {\n",
       "        vertical-align: top;\n",
       "    }\n",
       "\n",
       "    .dataframe thead th {\n",
       "        text-align: right;\n",
       "    }\n",
       "</style>\n",
       "<table border=\"1\" class=\"dataframe\">\n",
       "  <thead>\n",
       "    <tr style=\"text-align: right;\">\n",
       "      <th></th>\n",
       "      <th>row_id</th>\n",
       "      <th>series_id</th>\n",
       "      <th>measurement_number</th>\n",
       "      <th>orientation_X</th>\n",
       "      <th>orientation_Y</th>\n",
       "      <th>orientation_Z</th>\n",
       "      <th>orientation_W</th>\n",
       "      <th>angular_velocity_X</th>\n",
       "      <th>angular_velocity_Y</th>\n",
       "      <th>angular_velocity_Z</th>\n",
       "      <th>linear_acceleration_X</th>\n",
       "      <th>linear_acceleration_Y</th>\n",
       "      <th>linear_acceleration_Z</th>\n",
       "    </tr>\n",
       "  </thead>\n",
       "  <tbody>\n",
       "    <tr>\n",
       "      <th>0</th>\n",
       "      <td>0_0</td>\n",
       "      <td>0</td>\n",
       "      <td>0</td>\n",
       "      <td>-0.75853</td>\n",
       "      <td>-0.63435</td>\n",
       "      <td>-0.10488</td>\n",
       "      <td>-0.10597</td>\n",
       "      <td>0.107650</td>\n",
       "      <td>0.017561</td>\n",
       "      <td>0.000767</td>\n",
       "      <td>-0.74857</td>\n",
       "      <td>2.1030</td>\n",
       "      <td>-9.7532</td>\n",
       "    </tr>\n",
       "    <tr>\n",
       "      <th>1</th>\n",
       "      <td>0_1</td>\n",
       "      <td>0</td>\n",
       "      <td>1</td>\n",
       "      <td>-0.75853</td>\n",
       "      <td>-0.63434</td>\n",
       "      <td>-0.10490</td>\n",
       "      <td>-0.10600</td>\n",
       "      <td>0.067851</td>\n",
       "      <td>0.029939</td>\n",
       "      <td>0.003385</td>\n",
       "      <td>0.33995</td>\n",
       "      <td>1.5064</td>\n",
       "      <td>-9.4128</td>\n",
       "    </tr>\n",
       "    <tr>\n",
       "      <th>2</th>\n",
       "      <td>0_2</td>\n",
       "      <td>0</td>\n",
       "      <td>2</td>\n",
       "      <td>-0.75853</td>\n",
       "      <td>-0.63435</td>\n",
       "      <td>-0.10492</td>\n",
       "      <td>-0.10597</td>\n",
       "      <td>0.007275</td>\n",
       "      <td>0.028934</td>\n",
       "      <td>-0.005978</td>\n",
       "      <td>-0.26429</td>\n",
       "      <td>1.5922</td>\n",
       "      <td>-8.7267</td>\n",
       "    </tr>\n",
       "    <tr>\n",
       "      <th>3</th>\n",
       "      <td>0_3</td>\n",
       "      <td>0</td>\n",
       "      <td>3</td>\n",
       "      <td>-0.75852</td>\n",
       "      <td>-0.63436</td>\n",
       "      <td>-0.10495</td>\n",
       "      <td>-0.10597</td>\n",
       "      <td>-0.013053</td>\n",
       "      <td>0.019448</td>\n",
       "      <td>-0.008974</td>\n",
       "      <td>0.42684</td>\n",
       "      <td>1.0993</td>\n",
       "      <td>-10.0960</td>\n",
       "    </tr>\n",
       "    <tr>\n",
       "      <th>4</th>\n",
       "      <td>0_4</td>\n",
       "      <td>0</td>\n",
       "      <td>4</td>\n",
       "      <td>-0.75852</td>\n",
       "      <td>-0.63435</td>\n",
       "      <td>-0.10495</td>\n",
       "      <td>-0.10596</td>\n",
       "      <td>0.005135</td>\n",
       "      <td>0.007652</td>\n",
       "      <td>0.005245</td>\n",
       "      <td>-0.50969</td>\n",
       "      <td>1.4689</td>\n",
       "      <td>-10.4410</td>\n",
       "    </tr>\n",
       "  </tbody>\n",
       "</table>\n",
       "</div>"
      ],
      "text/plain": [
       "  row_id  series_id  measurement_number  orientation_X  orientation_Y  \\\n",
       "0    0_0          0                   0       -0.75853       -0.63435   \n",
       "1    0_1          0                   1       -0.75853       -0.63434   \n",
       "2    0_2          0                   2       -0.75853       -0.63435   \n",
       "3    0_3          0                   3       -0.75852       -0.63436   \n",
       "4    0_4          0                   4       -0.75852       -0.63435   \n",
       "\n",
       "   orientation_Z  orientation_W  angular_velocity_X  angular_velocity_Y  \\\n",
       "0       -0.10488       -0.10597            0.107650            0.017561   \n",
       "1       -0.10490       -0.10600            0.067851            0.029939   \n",
       "2       -0.10492       -0.10597            0.007275            0.028934   \n",
       "3       -0.10495       -0.10597           -0.013053            0.019448   \n",
       "4       -0.10495       -0.10596            0.005135            0.007652   \n",
       "\n",
       "   angular_velocity_Z  linear_acceleration_X  linear_acceleration_Y  \\\n",
       "0            0.000767               -0.74857                 2.1030   \n",
       "1            0.003385                0.33995                 1.5064   \n",
       "2           -0.005978               -0.26429                 1.5922   \n",
       "3           -0.008974                0.42684                 1.0993   \n",
       "4            0.005245               -0.50969                 1.4689   \n",
       "\n",
       "   linear_acceleration_Z  \n",
       "0                -9.7532  \n",
       "1                -9.4128  \n",
       "2                -8.7267  \n",
       "3               -10.0960  \n",
       "4               -10.4410  "
      ]
     },
     "execution_count": 138,
     "metadata": {},
     "output_type": "execute_result"
    }
   ],
   "source": [
    "train_x = pd.read_csv('X_train.csv')\n",
    "train_x.head()"
   ]
  },
  {
   "cell_type": "code",
   "execution_count": 139,
   "metadata": {
    "collapsed": false
   },
   "outputs": [
    {
     "data": {
      "text/html": [
       "<div>\n",
       "<style scoped>\n",
       "    .dataframe tbody tr th:only-of-type {\n",
       "        vertical-align: middle;\n",
       "    }\n",
       "\n",
       "    .dataframe tbody tr th {\n",
       "        vertical-align: top;\n",
       "    }\n",
       "\n",
       "    .dataframe thead th {\n",
       "        text-align: right;\n",
       "    }\n",
       "</style>\n",
       "<table border=\"1\" class=\"dataframe\">\n",
       "  <thead>\n",
       "    <tr style=\"text-align: right;\">\n",
       "      <th></th>\n",
       "      <th>series_id</th>\n",
       "      <th>group_id</th>\n",
       "      <th>surface</th>\n",
       "    </tr>\n",
       "  </thead>\n",
       "  <tbody>\n",
       "    <tr>\n",
       "      <th>0</th>\n",
       "      <td>0</td>\n",
       "      <td>13</td>\n",
       "      <td>fine_concrete</td>\n",
       "    </tr>\n",
       "    <tr>\n",
       "      <th>1</th>\n",
       "      <td>1</td>\n",
       "      <td>31</td>\n",
       "      <td>concrete</td>\n",
       "    </tr>\n",
       "    <tr>\n",
       "      <th>2</th>\n",
       "      <td>2</td>\n",
       "      <td>20</td>\n",
       "      <td>concrete</td>\n",
       "    </tr>\n",
       "    <tr>\n",
       "      <th>3</th>\n",
       "      <td>3</td>\n",
       "      <td>31</td>\n",
       "      <td>concrete</td>\n",
       "    </tr>\n",
       "    <tr>\n",
       "      <th>4</th>\n",
       "      <td>4</td>\n",
       "      <td>22</td>\n",
       "      <td>soft_tiles</td>\n",
       "    </tr>\n",
       "  </tbody>\n",
       "</table>\n",
       "</div>"
      ],
      "text/plain": [
       "   series_id  group_id        surface\n",
       "0          0        13  fine_concrete\n",
       "1          1        31       concrete\n",
       "2          2        20       concrete\n",
       "3          3        31       concrete\n",
       "4          4        22     soft_tiles"
      ]
     },
     "execution_count": 139,
     "metadata": {},
     "output_type": "execute_result"
    }
   ],
   "source": [
    "train_y = pd.read_csv('y_train.csv')\n",
    "train_y.head()"
   ]
  },
  {
   "cell_type": "code",
   "execution_count": 140,
   "metadata": {
    "collapsed": false
   },
   "outputs": [
    {
     "data": {
      "text/plain": [
       "concrete                  779\n",
       "soft_pvc                  732\n",
       "wood                      607\n",
       "tiled                     514\n",
       "fine_concrete             363\n",
       "hard_tiles_large_space    308\n",
       "soft_tiles                297\n",
       "carpet                    189\n",
       "hard_tiles                 21\n",
       "Name: surface, dtype: int64"
      ]
     },
     "execution_count": 140,
     "metadata": {},
     "output_type": "execute_result"
    }
   ],
   "source": [
    "train_y['surface'].value_counts()"
   ]
  },
  {
   "cell_type": "code",
   "execution_count": 141,
   "metadata": {
    "collapsed": false
   },
   "outputs": [
    {
     "data": {
      "text/html": [
       "<div>\n",
       "<style scoped>\n",
       "    .dataframe tbody tr th:only-of-type {\n",
       "        vertical-align: middle;\n",
       "    }\n",
       "\n",
       "    .dataframe tbody tr th {\n",
       "        vertical-align: top;\n",
       "    }\n",
       "\n",
       "    .dataframe thead th {\n",
       "        text-align: right;\n",
       "    }\n",
       "</style>\n",
       "<table border=\"1\" class=\"dataframe\">\n",
       "  <thead>\n",
       "    <tr style=\"text-align: right;\">\n",
       "      <th></th>\n",
       "      <th>row_id</th>\n",
       "      <th>series_id</th>\n",
       "      <th>measurement_number</th>\n",
       "      <th>orientation_X</th>\n",
       "      <th>orientation_Y</th>\n",
       "      <th>orientation_Z</th>\n",
       "      <th>orientation_W</th>\n",
       "      <th>angular_velocity_X</th>\n",
       "      <th>angular_velocity_Y</th>\n",
       "      <th>angular_velocity_Z</th>\n",
       "      <th>linear_acceleration_X</th>\n",
       "      <th>linear_acceleration_Y</th>\n",
       "      <th>linear_acceleration_Z</th>\n",
       "    </tr>\n",
       "  </thead>\n",
       "  <tbody>\n",
       "    <tr>\n",
       "      <th>0</th>\n",
       "      <td>0_0</td>\n",
       "      <td>0</td>\n",
       "      <td>0</td>\n",
       "      <td>-0.025773</td>\n",
       "      <td>-0.98864</td>\n",
       "      <td>-0.14801</td>\n",
       "      <td>0.003350</td>\n",
       "      <td>-0.006524</td>\n",
       "      <td>-0.001071</td>\n",
       "      <td>-0.027390</td>\n",
       "      <td>0.10043</td>\n",
       "      <td>4.2061</td>\n",
       "      <td>-5.5439</td>\n",
       "    </tr>\n",
       "    <tr>\n",
       "      <th>1</th>\n",
       "      <td>0_1</td>\n",
       "      <td>0</td>\n",
       "      <td>1</td>\n",
       "      <td>-0.025683</td>\n",
       "      <td>-0.98862</td>\n",
       "      <td>-0.14816</td>\n",
       "      <td>0.003439</td>\n",
       "      <td>-0.113960</td>\n",
       "      <td>0.083987</td>\n",
       "      <td>-0.060590</td>\n",
       "      <td>-0.70889</td>\n",
       "      <td>3.9905</td>\n",
       "      <td>-8.0273</td>\n",
       "    </tr>\n",
       "    <tr>\n",
       "      <th>2</th>\n",
       "      <td>0_2</td>\n",
       "      <td>0</td>\n",
       "      <td>2</td>\n",
       "      <td>-0.025617</td>\n",
       "      <td>-0.98861</td>\n",
       "      <td>-0.14826</td>\n",
       "      <td>0.003571</td>\n",
       "      <td>-0.080518</td>\n",
       "      <td>0.114860</td>\n",
       "      <td>-0.037177</td>\n",
       "      <td>1.45710</td>\n",
       "      <td>2.2828</td>\n",
       "      <td>-11.2990</td>\n",
       "    </tr>\n",
       "    <tr>\n",
       "      <th>3</th>\n",
       "      <td>0_3</td>\n",
       "      <td>0</td>\n",
       "      <td>3</td>\n",
       "      <td>-0.025566</td>\n",
       "      <td>-0.98862</td>\n",
       "      <td>-0.14817</td>\n",
       "      <td>0.003609</td>\n",
       "      <td>0.070067</td>\n",
       "      <td>0.033820</td>\n",
       "      <td>-0.035904</td>\n",
       "      <td>0.71096</td>\n",
       "      <td>1.8582</td>\n",
       "      <td>-12.2270</td>\n",
       "    </tr>\n",
       "    <tr>\n",
       "      <th>4</th>\n",
       "      <td>0_4</td>\n",
       "      <td>0</td>\n",
       "      <td>4</td>\n",
       "      <td>-0.025548</td>\n",
       "      <td>-0.98866</td>\n",
       "      <td>-0.14792</td>\n",
       "      <td>0.003477</td>\n",
       "      <td>0.152050</td>\n",
       "      <td>-0.029016</td>\n",
       "      <td>-0.015314</td>\n",
       "      <td>3.39960</td>\n",
       "      <td>2.7881</td>\n",
       "      <td>-10.4100</td>\n",
       "    </tr>\n",
       "  </tbody>\n",
       "</table>\n",
       "</div>"
      ],
      "text/plain": [
       "  row_id  series_id  measurement_number  orientation_X  orientation_Y  \\\n",
       "0    0_0          0                   0      -0.025773       -0.98864   \n",
       "1    0_1          0                   1      -0.025683       -0.98862   \n",
       "2    0_2          0                   2      -0.025617       -0.98861   \n",
       "3    0_3          0                   3      -0.025566       -0.98862   \n",
       "4    0_4          0                   4      -0.025548       -0.98866   \n",
       "\n",
       "   orientation_Z  orientation_W  angular_velocity_X  angular_velocity_Y  \\\n",
       "0       -0.14801       0.003350           -0.006524           -0.001071   \n",
       "1       -0.14816       0.003439           -0.113960            0.083987   \n",
       "2       -0.14826       0.003571           -0.080518            0.114860   \n",
       "3       -0.14817       0.003609            0.070067            0.033820   \n",
       "4       -0.14792       0.003477            0.152050           -0.029016   \n",
       "\n",
       "   angular_velocity_Z  linear_acceleration_X  linear_acceleration_Y  \\\n",
       "0           -0.027390                0.10043                 4.2061   \n",
       "1           -0.060590               -0.70889                 3.9905   \n",
       "2           -0.037177                1.45710                 2.2828   \n",
       "3           -0.035904                0.71096                 1.8582   \n",
       "4           -0.015314                3.39960                 2.7881   \n",
       "\n",
       "   linear_acceleration_Z  \n",
       "0                -5.5439  \n",
       "1                -8.0273  \n",
       "2               -11.2990  \n",
       "3               -12.2270  \n",
       "4               -10.4100  "
      ]
     },
     "execution_count": 141,
     "metadata": {},
     "output_type": "execute_result"
    }
   ],
   "source": [
    "test_x = pd.read_csv('X_test.csv')\n",
    "test_x.head()"
   ]
  },
  {
   "cell_type": "code",
   "execution_count": 142,
   "metadata": {
    "collapsed": true
   },
   "outputs": [],
   "source": [
    "##https://www.kaggle.com/prashantkikani/help-humanity-by-helping-robots\n",
    "def fe(df):\n",
    "    df['total_angular_velocity'] = (df['angular_velocity_X'] ** 2 + df['angular_velocity_Y'] ** 2 + df['angular_velocity_Z'] ** 2) ** 0.5\n",
    "    df['total_linear_acceleration'] = (df['linear_acceleration_X'] ** 2 + df['linear_acceleration_Y'] ** 2 + df['linear_acceleration_Z'] ** 2) ** 0.5\n",
    "    df['total_xyz'] = (df['orientation_X']**2 + df['orientation_Y']**2 +df['orientation_Z'])**0.5\n",
    "    \n",
    "    df['acc_vs_vel'] = df['total_linear_acceleration'] / df['total_angular_velocity']\n",
    "    \n",
    "    \n",
    "    temp_df = pd.DataFrame()\n",
    "    for col in df.columns[3:]:\n",
    "        temp_df[col + '_mean'] = df.groupby(['series_id'])[col].mean()\n",
    "        temp_df[col + '_median'] = df.groupby(['series_id'])[col].median()\n",
    "        temp_df[col + '_max'] = df.groupby(['series_id'])[col].max()\n",
    "        temp_df[col + '_min'] = df.groupby(['series_id'])[col].min()\n",
    "        temp_df[col + '_std'] = df.groupby(['series_id'])[col].std()\n",
    "        temp_df[col + '_range'] = temp_df[col + '_max'] - temp_df[col + '_min']\n",
    "        temp_df[col + '_maxtoMin'] = temp_df[col + '_max'] / temp_df[col + '_min']\n",
    "        temp_df[col + '_mean_abs_chg'] = df.groupby(['series_id'])[col].apply(lambda x: np.mean(np.abs(np.diff(x))))\n",
    "        temp_df[col + '_abs_min'] = df.groupby(['series_id'])[col].apply(lambda x: np.min(np.abs(x)))\n",
    "        temp_df[col + '_abs_max'] = df.groupby(['series_id'])[col].apply(lambda x: np.max(np.abs(x)))\n",
    "        temp_df[col + '_abs_avg'] = (temp_df[col + '_abs_min'] + temp_df[col + '_abs_max'])/2\n",
    "    return temp_df"
   ]
  },
  {
   "cell_type": "code",
   "execution_count": 143,
   "metadata": {
    "collapsed": false
   },
   "outputs": [
    {
     "name": "stdout",
     "output_type": "stream",
     "text": [
      "(487680, 17)\n"
     ]
    }
   ],
   "source": [
    "X_train = fe(train_x)\n",
    "X_test = fe(test_x)\n",
    "print(train_x.shape)"
   ]
  },
  {
   "cell_type": "code",
   "execution_count": 144,
   "metadata": {
    "collapsed": false
   },
   "outputs": [
    {
     "data": {
      "text/html": [
       "<div>\n",
       "<style scoped>\n",
       "    .dataframe tbody tr th:only-of-type {\n",
       "        vertical-align: middle;\n",
       "    }\n",
       "\n",
       "    .dataframe tbody tr th {\n",
       "        vertical-align: top;\n",
       "    }\n",
       "\n",
       "    .dataframe thead th {\n",
       "        text-align: right;\n",
       "    }\n",
       "</style>\n",
       "<table border=\"1\" class=\"dataframe\">\n",
       "  <thead>\n",
       "    <tr style=\"text-align: right;\">\n",
       "      <th></th>\n",
       "      <th>orientation_X_mean</th>\n",
       "      <th>orientation_X_median</th>\n",
       "      <th>orientation_X_max</th>\n",
       "      <th>orientation_X_min</th>\n",
       "      <th>orientation_X_std</th>\n",
       "      <th>orientation_X_range</th>\n",
       "      <th>orientation_X_maxtoMin</th>\n",
       "      <th>orientation_X_mean_abs_chg</th>\n",
       "      <th>orientation_X_abs_min</th>\n",
       "      <th>orientation_X_abs_max</th>\n",
       "      <th>...</th>\n",
       "      <th>acc_vs_vel_median</th>\n",
       "      <th>acc_vs_vel_max</th>\n",
       "      <th>acc_vs_vel_min</th>\n",
       "      <th>acc_vs_vel_std</th>\n",
       "      <th>acc_vs_vel_range</th>\n",
       "      <th>acc_vs_vel_maxtoMin</th>\n",
       "      <th>acc_vs_vel_mean_abs_chg</th>\n",
       "      <th>acc_vs_vel_abs_min</th>\n",
       "      <th>acc_vs_vel_abs_max</th>\n",
       "      <th>acc_vs_vel_abs_avg</th>\n",
       "    </tr>\n",
       "    <tr>\n",
       "      <th>series_id</th>\n",
       "      <th></th>\n",
       "      <th></th>\n",
       "      <th></th>\n",
       "      <th></th>\n",
       "      <th></th>\n",
       "      <th></th>\n",
       "      <th></th>\n",
       "      <th></th>\n",
       "      <th></th>\n",
       "      <th></th>\n",
       "      <th></th>\n",
       "      <th></th>\n",
       "      <th></th>\n",
       "      <th></th>\n",
       "      <th></th>\n",
       "      <th></th>\n",
       "      <th></th>\n",
       "      <th></th>\n",
       "      <th></th>\n",
       "      <th></th>\n",
       "      <th></th>\n",
       "    </tr>\n",
       "  </thead>\n",
       "  <tbody>\n",
       "    <tr>\n",
       "      <th>0</th>\n",
       "      <td>-0.758666</td>\n",
       "      <td>-0.758530</td>\n",
       "      <td>-0.75822</td>\n",
       "      <td>-0.75953</td>\n",
       "      <td>0.000363</td>\n",
       "      <td>0.00131</td>\n",
       "      <td>0.998275</td>\n",
       "      <td>0.000015</td>\n",
       "      <td>0.75822</td>\n",
       "      <td>0.75953</td>\n",
       "      <td>...</td>\n",
       "      <td>187.471573</td>\n",
       "      <td>995.561076</td>\n",
       "      <td>56.133014</td>\n",
       "      <td>135.641510</td>\n",
       "      <td>939.428062</td>\n",
       "      <td>17.735749</td>\n",
       "      <td>114.896199</td>\n",
       "      <td>56.133014</td>\n",
       "      <td>995.561076</td>\n",
       "      <td>525.847045</td>\n",
       "    </tr>\n",
       "    <tr>\n",
       "      <th>1</th>\n",
       "      <td>-0.958606</td>\n",
       "      <td>-0.958595</td>\n",
       "      <td>-0.95837</td>\n",
       "      <td>-0.95896</td>\n",
       "      <td>0.000151</td>\n",
       "      <td>0.00059</td>\n",
       "      <td>0.999385</td>\n",
       "      <td>0.000023</td>\n",
       "      <td>0.95837</td>\n",
       "      <td>0.95896</td>\n",
       "      <td>...</td>\n",
       "      <td>98.477877</td>\n",
       "      <td>611.826712</td>\n",
       "      <td>32.938319</td>\n",
       "      <td>88.488750</td>\n",
       "      <td>578.888393</td>\n",
       "      <td>18.574922</td>\n",
       "      <td>57.943094</td>\n",
       "      <td>32.938319</td>\n",
       "      <td>611.826712</td>\n",
       "      <td>322.382516</td>\n",
       "    </tr>\n",
       "    <tr>\n",
       "      <th>2</th>\n",
       "      <td>-0.512057</td>\n",
       "      <td>-0.512035</td>\n",
       "      <td>-0.50944</td>\n",
       "      <td>-0.51434</td>\n",
       "      <td>0.001377</td>\n",
       "      <td>0.00490</td>\n",
       "      <td>0.990473</td>\n",
       "      <td>0.000041</td>\n",
       "      <td>0.50944</td>\n",
       "      <td>0.51434</td>\n",
       "      <td>...</td>\n",
       "      <td>146.667138</td>\n",
       "      <td>904.269577</td>\n",
       "      <td>52.834789</td>\n",
       "      <td>132.789650</td>\n",
       "      <td>851.434788</td>\n",
       "      <td>17.115041</td>\n",
       "      <td>83.878164</td>\n",
       "      <td>52.834789</td>\n",
       "      <td>904.269577</td>\n",
       "      <td>478.552183</td>\n",
       "    </tr>\n",
       "    <tr>\n",
       "      <th>3</th>\n",
       "      <td>-0.939169</td>\n",
       "      <td>-0.939170</td>\n",
       "      <td>-0.93884</td>\n",
       "      <td>-0.93968</td>\n",
       "      <td>0.000227</td>\n",
       "      <td>0.00084</td>\n",
       "      <td>0.999106</td>\n",
       "      <td>0.000026</td>\n",
       "      <td>0.93884</td>\n",
       "      <td>0.93968</td>\n",
       "      <td>...</td>\n",
       "      <td>84.403391</td>\n",
       "      <td>805.924410</td>\n",
       "      <td>11.305069</td>\n",
       "      <td>112.264757</td>\n",
       "      <td>794.619341</td>\n",
       "      <td>71.288762</td>\n",
       "      <td>76.773215</td>\n",
       "      <td>11.305069</td>\n",
       "      <td>805.924410</td>\n",
       "      <td>408.614740</td>\n",
       "    </tr>\n",
       "    <tr>\n",
       "      <th>4</th>\n",
       "      <td>-0.891301</td>\n",
       "      <td>-0.890940</td>\n",
       "      <td>-0.88673</td>\n",
       "      <td>-0.89689</td>\n",
       "      <td>0.002955</td>\n",
       "      <td>0.01016</td>\n",
       "      <td>0.988672</td>\n",
       "      <td>0.000080</td>\n",
       "      <td>0.88673</td>\n",
       "      <td>0.89689</td>\n",
       "      <td>...</td>\n",
       "      <td>61.430180</td>\n",
       "      <td>111.588333</td>\n",
       "      <td>39.895232</td>\n",
       "      <td>16.611029</td>\n",
       "      <td>71.693101</td>\n",
       "      <td>2.797034</td>\n",
       "      <td>5.618844</td>\n",
       "      <td>39.895232</td>\n",
       "      <td>111.588333</td>\n",
       "      <td>75.741783</td>\n",
       "    </tr>\n",
       "  </tbody>\n",
       "</table>\n",
       "<p>5 rows × 154 columns</p>\n",
       "</div>"
      ],
      "text/plain": [
       "           orientation_X_mean  orientation_X_median  orientation_X_max  \\\n",
       "series_id                                                                \n",
       "0                   -0.758666             -0.758530           -0.75822   \n",
       "1                   -0.958606             -0.958595           -0.95837   \n",
       "2                   -0.512057             -0.512035           -0.50944   \n",
       "3                   -0.939169             -0.939170           -0.93884   \n",
       "4                   -0.891301             -0.890940           -0.88673   \n",
       "\n",
       "           orientation_X_min  orientation_X_std  orientation_X_range  \\\n",
       "series_id                                                              \n",
       "0                   -0.75953           0.000363              0.00131   \n",
       "1                   -0.95896           0.000151              0.00059   \n",
       "2                   -0.51434           0.001377              0.00490   \n",
       "3                   -0.93968           0.000227              0.00084   \n",
       "4                   -0.89689           0.002955              0.01016   \n",
       "\n",
       "           orientation_X_maxtoMin  orientation_X_mean_abs_chg  \\\n",
       "series_id                                                       \n",
       "0                        0.998275                    0.000015   \n",
       "1                        0.999385                    0.000023   \n",
       "2                        0.990473                    0.000041   \n",
       "3                        0.999106                    0.000026   \n",
       "4                        0.988672                    0.000080   \n",
       "\n",
       "           orientation_X_abs_min  orientation_X_abs_max  ...  \\\n",
       "series_id                                                ...   \n",
       "0                        0.75822                0.75953  ...   \n",
       "1                        0.95837                0.95896  ...   \n",
       "2                        0.50944                0.51434  ...   \n",
       "3                        0.93884                0.93968  ...   \n",
       "4                        0.88673                0.89689  ...   \n",
       "\n",
       "           acc_vs_vel_median  acc_vs_vel_max  acc_vs_vel_min  acc_vs_vel_std  \\\n",
       "series_id                                                                      \n",
       "0                 187.471573      995.561076       56.133014      135.641510   \n",
       "1                  98.477877      611.826712       32.938319       88.488750   \n",
       "2                 146.667138      904.269577       52.834789      132.789650   \n",
       "3                  84.403391      805.924410       11.305069      112.264757   \n",
       "4                  61.430180      111.588333       39.895232       16.611029   \n",
       "\n",
       "           acc_vs_vel_range  acc_vs_vel_maxtoMin  acc_vs_vel_mean_abs_chg  \\\n",
       "series_id                                                                   \n",
       "0                939.428062            17.735749               114.896199   \n",
       "1                578.888393            18.574922                57.943094   \n",
       "2                851.434788            17.115041                83.878164   \n",
       "3                794.619341            71.288762                76.773215   \n",
       "4                 71.693101             2.797034                 5.618844   \n",
       "\n",
       "           acc_vs_vel_abs_min  acc_vs_vel_abs_max  acc_vs_vel_abs_avg  \n",
       "series_id                                                              \n",
       "0                   56.133014          995.561076          525.847045  \n",
       "1                   32.938319          611.826712          322.382516  \n",
       "2                   52.834789          904.269577          478.552183  \n",
       "3                   11.305069          805.924410          408.614740  \n",
       "4                   39.895232          111.588333           75.741783  \n",
       "\n",
       "[5 rows x 154 columns]"
      ]
     },
     "execution_count": 144,
     "metadata": {},
     "output_type": "execute_result"
    }
   ],
   "source": [
    "X_train.head()"
   ]
  },
  {
   "cell_type": "code",
   "execution_count": 145,
   "metadata": {
    "collapsed": false
   },
   "outputs": [
    {
     "data": {
      "text/plain": [
       "(3810, 3)"
      ]
     },
     "execution_count": 145,
     "metadata": {},
     "output_type": "execute_result"
    }
   ],
   "source": [
    "train_y.shape"
   ]
  },
  {
   "cell_type": "code",
   "execution_count": 146,
   "metadata": {
    "collapsed": true
   },
   "outputs": [],
   "source": [
    "X_train.fillna(0, inplace = True)\n",
    "X_train.replace(-np.inf, 0, inplace = True)\n",
    "X_train.replace(np.inf, 0, inplace = True)\n",
    "X_test.fillna(0, inplace = True)\n",
    "X_test.replace(-np.inf, 0, inplace = True)\n",
    "X_test.replace(np.inf, 0, inplace = True)"
   ]
  },
  {
   "cell_type": "code",
   "execution_count": 147,
   "metadata": {
    "collapsed": false
   },
   "outputs": [
    {
     "data": {
      "text/plain": [
       "(3810, 154)"
      ]
     },
     "execution_count": 147,
     "metadata": {},
     "output_type": "execute_result"
    }
   ],
   "source": [
    "X_train.shape"
   ]
  },
  {
   "cell_type": "code",
   "execution_count": 148,
   "metadata": {
    "collapsed": false
   },
   "outputs": [],
   "source": [
    "from sklearn import preprocessing\n",
    "le = preprocessing.LabelEncoder()\n",
    "train_y['surface'] = le.fit_transform(train_y['surface'])"
   ]
  },
  {
   "cell_type": "code",
   "execution_count": 149,
   "metadata": {
    "collapsed": false,
    "scrolled": true
   },
   "outputs": [
    {
     "data": {
      "text/plain": [
       "1    779\n",
       "5    732\n",
       "8    607\n",
       "7    514\n",
       "2    363\n",
       "4    308\n",
       "6    297\n",
       "0    189\n",
       "3     21\n",
       "Name: surface, dtype: int64"
      ]
     },
     "execution_count": 149,
     "metadata": {},
     "output_type": "execute_result"
    }
   ],
   "source": [
    "train_y['surface'].value_counts()"
   ]
  },
  {
   "cell_type": "code",
   "execution_count": 150,
   "metadata": {
    "collapsed": true
   },
   "outputs": [],
   "source": [
    "from sklearn.model_selection import StratifiedKFold\n",
    "from sklearn.ensemble import RandomForestClassifier\n",
    "from sklearn.model_selection import GridSearchCV"
   ]
  },
  {
   "cell_type": "code",
   "execution_count": 151,
   "metadata": {
    "collapsed": false
   },
   "outputs": [
    {
     "data": {
      "text/html": [
       "<div>\n",
       "<style scoped>\n",
       "    .dataframe tbody tr th:only-of-type {\n",
       "        vertical-align: middle;\n",
       "    }\n",
       "\n",
       "    .dataframe tbody tr th {\n",
       "        vertical-align: top;\n",
       "    }\n",
       "\n",
       "    .dataframe thead th {\n",
       "        text-align: right;\n",
       "    }\n",
       "</style>\n",
       "<table border=\"1\" class=\"dataframe\">\n",
       "  <thead>\n",
       "    <tr style=\"text-align: right;\">\n",
       "      <th></th>\n",
       "      <th>orientation_X_mean</th>\n",
       "      <th>orientation_X_median</th>\n",
       "      <th>orientation_X_max</th>\n",
       "      <th>orientation_X_min</th>\n",
       "      <th>orientation_X_std</th>\n",
       "      <th>orientation_X_range</th>\n",
       "      <th>orientation_X_maxtoMin</th>\n",
       "      <th>orientation_X_mean_abs_chg</th>\n",
       "      <th>orientation_X_abs_min</th>\n",
       "      <th>orientation_X_abs_max</th>\n",
       "      <th>...</th>\n",
       "      <th>acc_vs_vel_median</th>\n",
       "      <th>acc_vs_vel_max</th>\n",
       "      <th>acc_vs_vel_min</th>\n",
       "      <th>acc_vs_vel_std</th>\n",
       "      <th>acc_vs_vel_range</th>\n",
       "      <th>acc_vs_vel_maxtoMin</th>\n",
       "      <th>acc_vs_vel_mean_abs_chg</th>\n",
       "      <th>acc_vs_vel_abs_min</th>\n",
       "      <th>acc_vs_vel_abs_max</th>\n",
       "      <th>acc_vs_vel_abs_avg</th>\n",
       "    </tr>\n",
       "    <tr>\n",
       "      <th>series_id</th>\n",
       "      <th></th>\n",
       "      <th></th>\n",
       "      <th></th>\n",
       "      <th></th>\n",
       "      <th></th>\n",
       "      <th></th>\n",
       "      <th></th>\n",
       "      <th></th>\n",
       "      <th></th>\n",
       "      <th></th>\n",
       "      <th></th>\n",
       "      <th></th>\n",
       "      <th></th>\n",
       "      <th></th>\n",
       "      <th></th>\n",
       "      <th></th>\n",
       "      <th></th>\n",
       "      <th></th>\n",
       "      <th></th>\n",
       "      <th></th>\n",
       "      <th></th>\n",
       "    </tr>\n",
       "  </thead>\n",
       "  <tbody>\n",
       "    <tr>\n",
       "      <th>0</th>\n",
       "      <td>-0.758666</td>\n",
       "      <td>-0.758530</td>\n",
       "      <td>-0.75822</td>\n",
       "      <td>-0.75953</td>\n",
       "      <td>0.000363</td>\n",
       "      <td>0.00131</td>\n",
       "      <td>0.998275</td>\n",
       "      <td>0.000015</td>\n",
       "      <td>0.75822</td>\n",
       "      <td>0.75953</td>\n",
       "      <td>...</td>\n",
       "      <td>187.471573</td>\n",
       "      <td>995.561076</td>\n",
       "      <td>56.133014</td>\n",
       "      <td>135.641510</td>\n",
       "      <td>939.428062</td>\n",
       "      <td>17.735749</td>\n",
       "      <td>114.896199</td>\n",
       "      <td>56.133014</td>\n",
       "      <td>995.561076</td>\n",
       "      <td>525.847045</td>\n",
       "    </tr>\n",
       "    <tr>\n",
       "      <th>1</th>\n",
       "      <td>-0.958606</td>\n",
       "      <td>-0.958595</td>\n",
       "      <td>-0.95837</td>\n",
       "      <td>-0.95896</td>\n",
       "      <td>0.000151</td>\n",
       "      <td>0.00059</td>\n",
       "      <td>0.999385</td>\n",
       "      <td>0.000023</td>\n",
       "      <td>0.95837</td>\n",
       "      <td>0.95896</td>\n",
       "      <td>...</td>\n",
       "      <td>98.477877</td>\n",
       "      <td>611.826712</td>\n",
       "      <td>32.938319</td>\n",
       "      <td>88.488750</td>\n",
       "      <td>578.888393</td>\n",
       "      <td>18.574922</td>\n",
       "      <td>57.943094</td>\n",
       "      <td>32.938319</td>\n",
       "      <td>611.826712</td>\n",
       "      <td>322.382516</td>\n",
       "    </tr>\n",
       "    <tr>\n",
       "      <th>2</th>\n",
       "      <td>-0.512057</td>\n",
       "      <td>-0.512035</td>\n",
       "      <td>-0.50944</td>\n",
       "      <td>-0.51434</td>\n",
       "      <td>0.001377</td>\n",
       "      <td>0.00490</td>\n",
       "      <td>0.990473</td>\n",
       "      <td>0.000041</td>\n",
       "      <td>0.50944</td>\n",
       "      <td>0.51434</td>\n",
       "      <td>...</td>\n",
       "      <td>146.667138</td>\n",
       "      <td>904.269577</td>\n",
       "      <td>52.834789</td>\n",
       "      <td>132.789650</td>\n",
       "      <td>851.434788</td>\n",
       "      <td>17.115041</td>\n",
       "      <td>83.878164</td>\n",
       "      <td>52.834789</td>\n",
       "      <td>904.269577</td>\n",
       "      <td>478.552183</td>\n",
       "    </tr>\n",
       "    <tr>\n",
       "      <th>3</th>\n",
       "      <td>-0.939169</td>\n",
       "      <td>-0.939170</td>\n",
       "      <td>-0.93884</td>\n",
       "      <td>-0.93968</td>\n",
       "      <td>0.000227</td>\n",
       "      <td>0.00084</td>\n",
       "      <td>0.999106</td>\n",
       "      <td>0.000026</td>\n",
       "      <td>0.93884</td>\n",
       "      <td>0.93968</td>\n",
       "      <td>...</td>\n",
       "      <td>84.403391</td>\n",
       "      <td>805.924410</td>\n",
       "      <td>11.305069</td>\n",
       "      <td>112.264757</td>\n",
       "      <td>794.619341</td>\n",
       "      <td>71.288762</td>\n",
       "      <td>76.773215</td>\n",
       "      <td>11.305069</td>\n",
       "      <td>805.924410</td>\n",
       "      <td>408.614740</td>\n",
       "    </tr>\n",
       "    <tr>\n",
       "      <th>4</th>\n",
       "      <td>-0.891301</td>\n",
       "      <td>-0.890940</td>\n",
       "      <td>-0.88673</td>\n",
       "      <td>-0.89689</td>\n",
       "      <td>0.002955</td>\n",
       "      <td>0.01016</td>\n",
       "      <td>0.988672</td>\n",
       "      <td>0.000080</td>\n",
       "      <td>0.88673</td>\n",
       "      <td>0.89689</td>\n",
       "      <td>...</td>\n",
       "      <td>61.430180</td>\n",
       "      <td>111.588333</td>\n",
       "      <td>39.895232</td>\n",
       "      <td>16.611029</td>\n",
       "      <td>71.693101</td>\n",
       "      <td>2.797034</td>\n",
       "      <td>5.618844</td>\n",
       "      <td>39.895232</td>\n",
       "      <td>111.588333</td>\n",
       "      <td>75.741783</td>\n",
       "    </tr>\n",
       "  </tbody>\n",
       "</table>\n",
       "<p>5 rows × 154 columns</p>\n",
       "</div>"
      ],
      "text/plain": [
       "           orientation_X_mean  orientation_X_median  orientation_X_max  \\\n",
       "series_id                                                                \n",
       "0                   -0.758666             -0.758530           -0.75822   \n",
       "1                   -0.958606             -0.958595           -0.95837   \n",
       "2                   -0.512057             -0.512035           -0.50944   \n",
       "3                   -0.939169             -0.939170           -0.93884   \n",
       "4                   -0.891301             -0.890940           -0.88673   \n",
       "\n",
       "           orientation_X_min  orientation_X_std  orientation_X_range  \\\n",
       "series_id                                                              \n",
       "0                   -0.75953           0.000363              0.00131   \n",
       "1                   -0.95896           0.000151              0.00059   \n",
       "2                   -0.51434           0.001377              0.00490   \n",
       "3                   -0.93968           0.000227              0.00084   \n",
       "4                   -0.89689           0.002955              0.01016   \n",
       "\n",
       "           orientation_X_maxtoMin  orientation_X_mean_abs_chg  \\\n",
       "series_id                                                       \n",
       "0                        0.998275                    0.000015   \n",
       "1                        0.999385                    0.000023   \n",
       "2                        0.990473                    0.000041   \n",
       "3                        0.999106                    0.000026   \n",
       "4                        0.988672                    0.000080   \n",
       "\n",
       "           orientation_X_abs_min  orientation_X_abs_max  ...  \\\n",
       "series_id                                                ...   \n",
       "0                        0.75822                0.75953  ...   \n",
       "1                        0.95837                0.95896  ...   \n",
       "2                        0.50944                0.51434  ...   \n",
       "3                        0.93884                0.93968  ...   \n",
       "4                        0.88673                0.89689  ...   \n",
       "\n",
       "           acc_vs_vel_median  acc_vs_vel_max  acc_vs_vel_min  acc_vs_vel_std  \\\n",
       "series_id                                                                      \n",
       "0                 187.471573      995.561076       56.133014      135.641510   \n",
       "1                  98.477877      611.826712       32.938319       88.488750   \n",
       "2                 146.667138      904.269577       52.834789      132.789650   \n",
       "3                  84.403391      805.924410       11.305069      112.264757   \n",
       "4                  61.430180      111.588333       39.895232       16.611029   \n",
       "\n",
       "           acc_vs_vel_range  acc_vs_vel_maxtoMin  acc_vs_vel_mean_abs_chg  \\\n",
       "series_id                                                                   \n",
       "0                939.428062            17.735749               114.896199   \n",
       "1                578.888393            18.574922                57.943094   \n",
       "2                851.434788            17.115041                83.878164   \n",
       "3                794.619341            71.288762                76.773215   \n",
       "4                 71.693101             2.797034                 5.618844   \n",
       "\n",
       "           acc_vs_vel_abs_min  acc_vs_vel_abs_max  acc_vs_vel_abs_avg  \n",
       "series_id                                                              \n",
       "0                   56.133014          995.561076          525.847045  \n",
       "1                   32.938319          611.826712          322.382516  \n",
       "2                   52.834789          904.269577          478.552183  \n",
       "3                   11.305069          805.924410          408.614740  \n",
       "4                   39.895232          111.588333           75.741783  \n",
       "\n",
       "[5 rows x 154 columns]"
      ]
     },
     "execution_count": 151,
     "metadata": {},
     "output_type": "execute_result"
    }
   ],
   "source": [
    "X_train.head()"
   ]
  },
  {
   "cell_type": "code",
   "execution_count": 152,
   "metadata": {
    "collapsed": true
   },
   "outputs": [],
   "source": [
    "X_train= X_train.astype(np.float32)"
   ]
  },
  {
   "cell_type": "code",
   "execution_count": 153,
   "metadata": {
    "collapsed": false
   },
   "outputs": [
    {
     "data": {
      "text/plain": [
       "orientation_X_mean                        0\n",
       "orientation_X_median                      0\n",
       "orientation_X_max                         0\n",
       "orientation_X_min                         0\n",
       "orientation_X_std                         0\n",
       "orientation_X_range                       0\n",
       "orientation_X_maxtoMin                    0\n",
       "orientation_X_mean_abs_chg                0\n",
       "orientation_X_abs_min                     0\n",
       "orientation_X_abs_max                     0\n",
       "orientation_X_abs_avg                     0\n",
       "orientation_Y_mean                        0\n",
       "orientation_Y_median                      0\n",
       "orientation_Y_max                         0\n",
       "orientation_Y_min                         0\n",
       "orientation_Y_std                         0\n",
       "orientation_Y_range                       0\n",
       "orientation_Y_maxtoMin                    0\n",
       "orientation_Y_mean_abs_chg                0\n",
       "orientation_Y_abs_min                     0\n",
       "orientation_Y_abs_max                     0\n",
       "orientation_Y_abs_avg                     0\n",
       "orientation_Z_mean                        0\n",
       "orientation_Z_median                      0\n",
       "orientation_Z_max                         0\n",
       "orientation_Z_min                         0\n",
       "orientation_Z_std                         0\n",
       "orientation_Z_range                       0\n",
       "orientation_Z_maxtoMin                    0\n",
       "orientation_Z_mean_abs_chg                0\n",
       "                                         ..\n",
       "total_linear_acceleration_min             0\n",
       "total_linear_acceleration_std             0\n",
       "total_linear_acceleration_range           0\n",
       "total_linear_acceleration_maxtoMin        0\n",
       "total_linear_acceleration_mean_abs_chg    0\n",
       "total_linear_acceleration_abs_min         0\n",
       "total_linear_acceleration_abs_max         0\n",
       "total_linear_acceleration_abs_avg         0\n",
       "total_xyz_mean                            0\n",
       "total_xyz_median                          0\n",
       "total_xyz_max                             0\n",
       "total_xyz_min                             0\n",
       "total_xyz_std                             0\n",
       "total_xyz_range                           0\n",
       "total_xyz_maxtoMin                        0\n",
       "total_xyz_mean_abs_chg                    0\n",
       "total_xyz_abs_min                         0\n",
       "total_xyz_abs_max                         0\n",
       "total_xyz_abs_avg                         0\n",
       "acc_vs_vel_mean                           0\n",
       "acc_vs_vel_median                         0\n",
       "acc_vs_vel_max                            0\n",
       "acc_vs_vel_min                            0\n",
       "acc_vs_vel_std                            0\n",
       "acc_vs_vel_range                          0\n",
       "acc_vs_vel_maxtoMin                       0\n",
       "acc_vs_vel_mean_abs_chg                   0\n",
       "acc_vs_vel_abs_min                        0\n",
       "acc_vs_vel_abs_max                        0\n",
       "acc_vs_vel_abs_avg                        0\n",
       "Length: 154, dtype: int64"
      ]
     },
     "execution_count": 153,
     "metadata": {},
     "output_type": "execute_result"
    }
   ],
   "source": [
    "mis_val = X_train.isnull().sum()\n",
    "mis_val "
   ]
  },
  {
   "cell_type": "markdown",
   "metadata": {},
   "source": [
    "\n",
    "param_grid = {\n",
    "    'bootstrap': [False,True],\n",
    "     'max_depth': [50, 70 ,100],\n",
    "   'max_features': ['auto','sqrt'],\n",
    "    'min_samples_leaf': [1, 5, 10],\n",
    "   'min_samples_split': [4, 3, 2],\n",
    "    'n_estimators': [500, 1000, 1500, 2000]\n",
    " }\n",
    "\n",
    "clf = RandomForestClassifier()\n",
    "\n",
    "grid_search = GridSearchCV(estimator = clf, param_grid = param_grid, \n",
    "                          cv = 3, n_jobs = -1)\n",
    "\n",
    "grid_search.fit(X_train,train_y['surface'])"
   ]
  },
  {
   "cell_type": "markdown",
   "metadata": {},
   "source": [
    "grid_search.get_params()"
   ]
  },
  {
   "cell_type": "code",
   "execution_count": 154,
   "metadata": {
    "collapsed": false
   },
   "outputs": [
    {
     "name": "stdout",
     "output_type": "stream",
     "text": [
      "<class 'pandas.core.frame.DataFrame'>\n",
      "Int64Index: 3810 entries, 0 to 3809\n",
      "Columns: 154 entries, orientation_X_mean to acc_vs_vel_abs_avg\n",
      "dtypes: float32(154)\n",
      "memory usage: 2.3 MB\n"
     ]
    }
   ],
   "source": [
    "X_train.info()"
   ]
  },
  {
   "cell_type": "code",
   "execution_count": 155,
   "metadata": {
    "collapsed": false
   },
   "outputs": [
    {
     "data": {
      "text/plain": [
       "RandomForestClassifier(bootstrap=True, class_weight='balanced',\n",
       "            criterion='gini', max_depth=50, max_features='auto',\n",
       "            max_leaf_nodes=None, min_impurity_decrease=0.0,\n",
       "            min_impurity_split=None, min_samples_leaf=1,\n",
       "            min_samples_split=4, min_weight_fraction_leaf=0.0,\n",
       "            n_estimators=2000, n_jobs=None, oob_score=False,\n",
       "            random_state=None, verbose=0, warm_start=False)"
      ]
     },
     "execution_count": 155,
     "metadata": {},
     "output_type": "execute_result"
    }
   ],
   "source": [
    "clf = RandomForestClassifier(n_estimators = 2000,\n",
    "                               max_depth=50, \n",
    "                             min_samples_split=4,\n",
    "                             class_weight='balanced')\n",
    "clf.fit(X_train,train_y['surface'])"
   ]
  },
  {
   "cell_type": "code",
   "execution_count": null,
   "metadata": {
    "collapsed": true
   },
   "outputs": [],
   "source": []
  },
  {
   "cell_type": "code",
   "execution_count": 156,
   "metadata": {
    "collapsed": true
   },
   "outputs": [],
   "source": [
    "predictions_x_test=clf.predict(X_test)"
   ]
  },
  {
   "cell_type": "code",
   "execution_count": null,
   "metadata": {
    "collapsed": true
   },
   "outputs": [],
   "source": [
    "\n"
   ]
  },
  {
   "cell_type": "code",
   "execution_count": 161,
   "metadata": {
    "collapsed": false
   },
   "outputs": [
    {
     "name": "stdout",
     "output_type": "stream",
     "text": [
      "[4 0 7 ... 4 1 8]\n"
     ]
    }
   ],
   "source": [
    "print(predictions_x_test)"
   ]
  },
  {
   "cell_type": "code",
   "execution_count": 167,
   "metadata": {
    "collapsed": false
   },
   "outputs": [],
   "source": [
    "submission=pd.DataFrame()\n",
    "submission['surface'] = le.inverse_transform(predictions_x_test)\n",
    "submission= submission.reset_index()\n",
    "submission=submission.rename(index=str, columns={\"index\": \"series_id\",\"surface\":\"surface\"})\n",
    "submission.head()\n",
    "submission.to_csv('submission.csv', index=False)"
   ]
  },
  {
   "cell_type": "code",
   "execution_count": 168,
   "metadata": {
    "collapsed": false
   },
   "outputs": [
    {
     "data": {
      "image/png": "[encoded data removed]",
      "text/plain": [
       "<matplotlib.figure.Figure at 0x5aa505f8>"
      ]
     },
     "metadata": {},
     "output_type": "display_data"
    }
   ],
   "source": [
    "\n",
    "coef = pd.Series(clf.feature_importances_, index = X_train.columns).sort_values(ascending=False)\n",
    "\n",
    "plt.figure(figsize=(10, 5))\n",
    "coef.head(25).plot(kind='bar')\n",
    "plt.title('Feature Significance')\n",
    "plt.show()"
   ]
  },
  {
   "cell_type": "code",
   "execution_count": null,
   "metadata": {
    "collapsed": true
   },
   "outputs": [],
   "source": []
  }
 ],
 "metadata": {
  "kernelspec": {
   "display_name": "Python 2",
   "language": "python",
   "name": "python2"
  },
  "language_info": {
   "codemirror_mode": {
    "name": "ipython",
    "version": 2
   },
   "file_extension": ".py",
   "mimetype": "text/x-python",
   "name": "python",
   "nbconvert_exporter": "python",
   "pygments_lexer": "ipython2",
   "version": "2.7.11"
  }
 },
 "nbformat": 4,
 "nbformat_minor": 2
}
